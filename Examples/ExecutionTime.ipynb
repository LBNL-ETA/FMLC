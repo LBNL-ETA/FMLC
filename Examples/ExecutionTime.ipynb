{
 "cells": [
  {
   "cell_type": "markdown",
   "metadata": {},
   "source": [
    "## This file perform a mini-benchmark of the execution time of the stackedclasses."
   ]
  },
  {
   "cell_type": "code",
   "execution_count": 1,
   "metadata": {},
   "outputs": [],
   "source": [
    "import sys\n",
    "from os import path\n",
    "import time\n",
    "sys.path.append(path.dirname(path.dirname(path.abspath(\"Test.ipynb\"))))\n",
    "from Controllers_Definition import testcontroller1, testcontroller2, testcontroller3, testcontroller4\n",
    "from FMLC.triggering import triggering\n",
    "from FMLC.baseclasses import eFMU\n",
    "from FMLC.stackedclasses import controller_stack\n",
    "import matplotlib.pyplot as plt"
   ]
  },
  {
   "cell_type": "markdown",
   "metadata": {},
   "source": [
    "Note: Each controller is in a seperate task."
   ]
  },
  {
   "cell_type": "code",
   "execution_count": 3,
   "metadata": {
    "tags": []
   },
   "outputs": [
    {
     "name": "stdout",
     "output_type": "stream",
     "text": [
      "5\n",
      "Finished Initialization!\n",
      "Done Running!\n",
      "Shutdown complete!\n",
      "10\n",
      "Finished Initialization!\n",
      "Done Running!\n",
      "Shutdown complete!\n",
      "15\n",
      "Finished Initialization!\n",
      "Done Running!\n",
      "Shutdown complete!\n",
      "20\n",
      "Finished Initialization!\n",
      "Done Running!\n",
      "Shutdown complete!\n",
      "25\n",
      "Finished Initialization!\n",
      "Done Running!\n",
      "Shutdown complete!\n",
      "30\n",
      "Finished Initialization!\n",
      "Done Running!\n",
      "Shutdown complete!\n",
      "35\n",
      "Finished Initialization!\n",
      "Done Running!\n",
      "Shutdown complete!\n",
      "40\n",
      "Finished Initialization!\n",
      "Done Running!\n",
      "Shutdown complete!\n",
      "45\n",
      "Finished Initialization!\n",
      "Done Running!\n",
      "Shutdown complete!\n",
      "50\n",
      "Finished Initialization!\n",
      "Done Running!\n",
      "Shutdown complete!\n",
      "55\n",
      "Finished Initialization!\n",
      "Done Running!\n",
      "Shutdown complete!\n",
      "60\n",
      "Finished Initialization!\n",
      "Done Running!\n",
      "Shutdown complete!\n",
      "65\n",
      "Finished Initialization!\n",
      "Done Running!\n",
      "Shutdown complete!\n",
      "70\n",
      "Finished Initialization!\n",
      "Done Running!\n",
      "Shutdown complete!\n",
      "75\n",
      "Finished Initialization!\n",
      "Done Running!\n",
      "Shutdown complete!\n"
     ]
    }
   ],
   "source": [
    "run_time = []\n",
    "num_controllers_list = range(5, 76, 5)\n",
    "#num_controllers_list = [30]\n",
    "for num_controllers in num_controllers_list:\n",
    "    # Init\n",
    "    print(num_controllers)\n",
    "    controllers = {}\n",
    "    mapping = {}\n",
    "    for i in range(num_controllers):\n",
    "        controllers['controller%s' % i] = {'fun':testcontroller1, 'sampletime':0.25}\n",
    "        mapping['controller%s_a' % i] = 10\n",
    "        mapping['controller%s_b' % i] = 4\n",
    "    ctrl_stack = controller_stack(controllers, mapping, tz=-8, debug=True, parallel=True, timeout=2, workers=200)\n",
    "    print(\"Finished Initialization!\")\n",
    "    # Call query_control 6 times\n",
    "    start_time = time.time()\n",
    "    for i in range(6):\n",
    "        ctrl_stack.query_control(time.time())\n",
    "        # Sleep can be necessary since the run time can be less than the sample time. \n",
    "        time.sleep(0.3)\n",
    "    # Note I subtract the total sleep time from the final run time. \n",
    "    print(\"Done Running!\")\n",
    "    run_time.append(time.time()-start_time)\n",
    "    ctrl_stack.shutdown()\n",
    "    print(\"Shutdown complete!\")"
   ]
  },
  {
   "cell_type": "code",
   "execution_count": 4,
   "metadata": {},
   "outputs": [
    {
     "name": "stdout",
     "output_type": "stream",
     "text": [
      "[1.8584399223327637, 1.8711540699005127, 1.8924050331115723, 1.8917582035064697, 1.960773229598999, 1.9435458183288574, 1.961026906967163, 2.016853094100952, 2.004089832305908, 2.1390769481658936, 2.0163791179656982, 2.0044610500335693, 2.080260992050171, 2.2607040405273438, 2.4734079837799072]\n"
     ]
    },
    {
     "data": {
      "image/png": "[encoded data removed]",
      "text/plain": [
       "<Figure size 432x288 with 1 Axes>"
      ]
     },
     "metadata": {
      "needs_background": "light"
     },
     "output_type": "display_data"
    }
   ],
   "source": [
    "plt.plot(num_controllers_list, run_time)\n",
    "plt.xlabel(\"Number of Controllers\")\n",
    "plt.ylabel(\"Runtime (seconds)\")\n",
    "plt.title(\"Runtime vs #of Controllers\")\n",
    "print(run_time)"
   ]
  },
  {
   "cell_type": "code",
   "execution_count": null,
   "metadata": {},
   "outputs": [],
   "source": []
  }
 ],
 "metadata": {
  "kernelspec": {
   "display_name": "Python3.9",
   "language": "python",
   "name": "3.9"
  },
  "language_info": {
   "codemirror_mode": {
    "name": "ipython",
    "version": 3
   },
   "file_extension": ".py",
   "mimetype": "text/x-python",
   "name": "python",
   "nbconvert_exporter": "python",
   "pygments_lexer": "ipython3",
   "version": "3.9.1"
  }
 },
 "nbformat": 4,
 "nbformat_minor": 2
}
