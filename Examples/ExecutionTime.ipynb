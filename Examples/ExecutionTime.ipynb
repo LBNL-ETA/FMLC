{
 "cells": [
  {
   "cell_type": "markdown",
   "metadata": {},
   "source": [
    "## This file perform a mini-benchmark of the execution time of the stackedclasses."
   ]
  },
  {
   "cell_type": "code",
   "execution_count": 1,
   "metadata": {},
   "outputs": [],
   "source": [
    "import sys\n",
    "from os import path\n",
    "import time\n",
    "sys.path.append(path.dirname(path.dirname(path.abspath(\"Test.ipynb\"))))\n",
    "from Controllers_Definition import testcontroller1, testcontroller2, testcontroller3, testcontroller4\n",
    "from FMLC.triggering import triggering\n",
    "from FMLC.baseclasses import eFMU\n",
    "from FMLC.stackedclasses import controller_stack\n",
    "import matplotlib.pyplot as plt"
   ]
  },
  {
   "cell_type": "markdown",
   "metadata": {},
   "source": [
    "Note: Each controller is in a seperate task."
   ]
  },
  {
   "cell_type": "code",
   "execution_count": 2,
   "metadata": {
    "tags": []
   },
   "outputs": [
    {
     "name": "stdout",
     "output_type": "stream",
     "text": [
      "5\n",
      "Finished Initialization!\n",
      "Done Running!\n",
      "Shutdown complete!\n",
      "10\n",
      "Finished Initialization!\n",
      "Done Running!\n",
      "Shutdown complete!\n",
      "15\n",
      "Finished Initialization!\n",
      "Done Running!\n",
      "Shutdown complete!\n",
      "20\n",
      "Finished Initialization!\n",
      "Done Running!\n",
      "Shutdown complete!\n",
      "25\n",
      "Finished Initialization!\n",
      "Done Running!\n",
      "Shutdown complete!\n",
      "30\n",
      "Finished Initialization!\n",
      "Done Running!\n",
      "Shutdown complete!\n",
      "35\n",
      "Finished Initialization!\n",
      "Done Running!\n",
      "Shutdown complete!\n",
      "40\n",
      "Finished Initialization!\n",
      "Done Running!\n",
      "Shutdown complete!\n",
      "45\n",
      "Finished Initialization!\n",
      "Done Running!\n",
      "Shutdown complete!\n",
      "50\n",
      "Finished Initialization!\n",
      "Done Running!\n",
      "Shutdown complete!\n",
      "55\n",
      "Finished Initialization!\n",
      "Done Running!\n",
      "Shutdown complete!\n",
      "60\n",
      "Finished Initialization!\n",
      "Done Running!\n",
      "Shutdown complete!\n",
      "65\n",
      "Finished Initialization!\n",
      "Done Running!\n",
      "Shutdown complete!\n",
      "70\n",
      "Finished Initialization!\n",
      "Controller timeout controller1\n"
     ]
    },
    {
     "name": "stderr",
     "output_type": "stream",
     "text": [
      "/Users/deoxi/FMLC/FMLC/stackedclasses.py:341: Warning: Controller controller1 timeout\n",
      "  warnings.warn('Controller {} timeout'.format(n), Warning)\n"
     ]
    },
    {
     "name": "stdout",
     "output_type": "stream",
     "text": [
      "Done Running!\n",
      "Shutdown complete!\n",
      "75\n",
      "Finished Initialization!\n",
      "Controller timeout controller0\n"
     ]
    },
    {
     "name": "stderr",
     "output_type": "stream",
     "text": [
      "/Users/deoxi/FMLC/FMLC/stackedclasses.py:341: Warning: Controller controller0 timeout\n",
      "  warnings.warn('Controller {} timeout'.format(n), Warning)\n"
     ]
    },
    {
     "name": "stdout",
     "output_type": "stream",
     "text": [
      "Done Running!\n",
      "Shutdown complete!\n"
     ]
    }
   ],
   "source": [
    "run_time = []\n",
    "num_controllers_list = range(5, 76, 5)\n",
    "#num_controllers_list = [30]\n",
    "for num_controllers in num_controllers_list:\n",
    "    # Init\n",
    "    print(num_controllers)\n",
    "    controllers = {}\n",
    "    mapping = {}\n",
    "    for i in range(num_controllers):\n",
    "        controllers['controller%s' % i] = {'fun':testcontroller1, 'sampletime':0.25}\n",
    "        mapping['controller%s_a' % i] = 10\n",
    "        mapping['controller%s_b' % i] = 4\n",
    "    ctrl_stack = controller_stack(controllers, mapping, tz=-8, debug=True, parallel=True, timeout=2)\n",
    "    print(\"Finished Initialization!\")\n",
    "    # Call query_control 6 times\n",
    "    start_time = time.time()\n",
    "    for i in range(6):\n",
    "        ctrl_stack.query_control(time.time())\n",
    "        # Sleep can be necessary since the run time can be less than the sample time. \n",
    "        time.sleep(0.3)\n",
    "    # Note I subtract the total sleep time from the final run time. \n",
    "    print(\"Done Running!\")\n",
    "    run_time.append(time.time()-start_time-0.3*6)\n",
    "    ctrl_stack.shutdown()\n",
    "    print(\"Shutdown complete!\")"
   ]
  },
  {
   "cell_type": "code",
   "execution_count": 3,
   "metadata": {},
   "outputs": [
    {
     "name": "stdout",
     "output_type": "stream",
     "text": [
      "[0.16062898635864276, 0.23582406044006365, 0.5371241092681887, 0.626236152648926, 1.6300358295440676, 1.8958642005920412, 1.902986240386963, 2.787153196334839, 3.184338998794556, 3.240596961975098, 4.334120225906372, 4.494318914413452, 5.035508823394776, 6.837262105941773, 6.570814323425293]\n"
     ]
    },
    {
     "data": {
      "image/png": "[encoded data removed]",
      "text/plain": [
       "<Figure size 432x288 with 1 Axes>"
      ]
     },
     "metadata": {
      "needs_background": "light"
     },
     "output_type": "display_data"
    }
   ],
   "source": [
    "plt.plot(num_controllers_list, run_time)\n",
    "plt.xlabel(\"Number of Controllers\")\n",
    "plt.ylabel(\"Runtime (seconds)\")\n",
    "plt.title(\"Runtime vs #of Controllers\")\n",
    "print(run_time)"
   ]
  },
  {
   "cell_type": "code",
   "execution_count": null,
   "metadata": {},
   "outputs": [],
   "source": [
    "print([0.16943378448486346, 0.30781502723693865, 0.5988280296325685, 0.9328121662139894, 2.0851561546325685, 2.102894973754883, 2.479551982879639, 3.2455312728881838, 3.5485629558563234, 4.2083327293396, 4.816504192352295, 5.83887095451355, 6.501224946975708, 7.830836009979248, 9.20174880027771] - [0.18336124420166033, 0.5181891441345217, 0.8644921302795412, 1.173587989807129, 1.7332229137420656, 1.790395212173462, 2.6081542491912844, 2.7927598476409914, 3.131494235992432, 3.8988749504089357, 5.2910911560058596, 5.525445175170899, 6.390048933029175, 7.130548906326294, 8.75259609222412])"
   ]
  }
 ],
 "metadata": {
  "kernelspec": {
   "display_name": "Python3.9",
   "language": "python",
   "name": "3.9"
  },
  "language_info": {
   "codemirror_mode": {
    "name": "ipython",
    "version": 3
   },
   "file_extension": ".py",
   "mimetype": "text/x-python",
   "name": "python",
   "nbconvert_exporter": "python",
   "pygments_lexer": "ipython3",
   "version": "3.9.1"
  }
 },
 "nbformat": 4,
 "nbformat_minor": 2
}
