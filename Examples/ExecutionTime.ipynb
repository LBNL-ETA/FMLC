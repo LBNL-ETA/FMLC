{
 "cells": [
  {
   "cell_type": "markdown",
   "metadata": {},
   "source": [
    "## This file perform a mini-benchmark of the execution time of the stackedclasses."
   ]
  },
  {
   "cell_type": "code",
   "execution_count": 1,
   "metadata": {},
   "outputs": [],
   "source": [
    "import sys\n",
    "from os import path\n",
    "import time\n",
    "sys.path.append(path.dirname(path.dirname(path.abspath(\"Test.ipynb\"))))\n",
    "from Controllers_Definition import testcontroller1, testcontroller2, testcontroller3, testcontroller4\n",
    "from FMLC.triggering import triggering\n",
    "from FMLC.baseclasses import eFMU\n",
    "from FMLC.stackedclasses import controller_stack\n",
    "import matplotlib.pyplot as plt"
   ]
  },
  {
   "cell_type": "markdown",
   "metadata": {},
   "source": [
    "Note: Each controller is in a seperate task."
   ]
  },
  {
   "cell_type": "code",
   "execution_count": 2,
   "metadata": {
    "tags": []
   },
   "outputs": [
    {
     "name": "stdout",
     "output_type": "stream",
     "text": [
      "5\n",
      "Finished Initialization!\n",
      "Done Running!\n",
      "Shutdown complete!\n",
      "10\n",
      "Finished Initialization!\n",
      "Done Running!\n",
      "Shutdown complete!\n",
      "15\n",
      "Finished Initialization!\n",
      "Done Running!\n",
      "Shutdown complete!\n",
      "20\n",
      "Finished Initialization!\n",
      "Done Running!\n",
      "Shutdown complete!\n",
      "25\n",
      "Finished Initialization!\n",
      "Done Running!\n",
      "Shutdown complete!\n",
      "30\n",
      "Finished Initialization!\n",
      "Done Running!\n",
      "Shutdown complete!\n",
      "35\n",
      "Finished Initialization!\n",
      "Done Running!\n",
      "Shutdown complete!\n",
      "40\n",
      "Finished Initialization!\n",
      "Done Running!\n",
      "Shutdown complete!\n",
      "45\n",
      "Finished Initialization!\n",
      "Done Running!\n",
      "Shutdown complete!\n",
      "50\n",
      "Finished Initialization!\n",
      "Done Running!\n",
      "Shutdown complete!\n",
      "55\n",
      "Finished Initialization!\n",
      "Done Running!\n",
      "Shutdown complete!\n",
      "60\n",
      "Finished Initialization!\n",
      "Done Running!\n",
      "Shutdown complete!\n",
      "65\n",
      "Finished Initialization!\n",
      "Done Running!\n",
      "Shutdown complete!\n",
      "70\n",
      "Finished Initialization!\n",
      "Done Running!\n",
      "Shutdown complete!\n",
      "75\n",
      "Finished Initialization!\n",
      "Done Running!\n",
      "Shutdown complete!\n"
     ]
    }
   ],
   "source": [
    "run_time = []\n",
    "num_controllers_list = range(5, 76, 5)\n",
    "#num_controllers_list = [30]\n",
    "for num_controllers in num_controllers_list:\n",
    "    # Init\n",
    "    print(num_controllers)\n",
    "    controllers = {}\n",
    "    mapping = {}\n",
    "    for i in range(num_controllers):\n",
    "        controllers['controller%s' % i] = {'fun':testcontroller1, 'sampletime':0.25}\n",
    "        mapping['controller%s_a' % i] = 10\n",
    "        mapping['controller%s_b' % i] = 4\n",
    "    ctrl_stack = controller_stack(controllers, mapping, tz=-8, debug=True, parallel=True, timeout=2)\n",
    "    print(\"Finished Initialization!\")\n",
    "    # Call query_control 6 times\n",
    "    start_time = time.time()\n",
    "    for i in range(6):\n",
    "        ctrl_stack.query_control(time.time())\n",
    "        # Sleep can be necessary since the run time can be less than the sample time. \n",
    "        time.sleep(0.3)\n",
    "    # Note I subtract the total sleep time from the final run time. \n",
    "    print(\"Done Running!\")\n",
    "    run_time.append(time.time()-start_time-0.3*6)\n",
    "    ctrl_stack.shutdown()\n",
    "    print(\"Shutdown complete!\")"
   ]
  },
  {
   "cell_type": "code",
   "execution_count": 4,
   "metadata": {},
   "outputs": [
    {
     "name": "stdout",
     "output_type": "stream",
     "text": [
      "[0.4025351524353029, 0.6437220096588137, 0.8630699634552004, 1.0771181106567385, 1.3943359375000002, 1.6823281764984133, 2.1301037788391115, 2.4521419525146486, 2.7480937957763674, 3.20931715965271, 4.126946640014649, 3.445743989944458, 4.218066883087158, 4.423087072372437, 3.851603937149048]\n"
     ]
    },
    {
     "data": {
      "image/png": "[encoded data removed]",
      "text/plain": [
       "<Figure size 432x288 with 1 Axes>"
      ]
     },
     "metadata": {
      "needs_background": "light"
     },
     "output_type": "display_data"
    }
   ],
   "source": [
    "plt.plot(num_controllers_list, run_time)\n",
    "plt.xlabel(\"Number of Controllers\")\n",
    "plt.ylabel(\"Runtime (seconds)\")\n",
    "plt.title(\"Runtime vs #of Controllers\")\n",
    "print(run_time)"
   ]
  },
  {
   "cell_type": "code",
   "execution_count": 4,
   "metadata": {},
   "outputs": [
    {
     "ename": "TypeError",
     "evalue": "unsupported operand type(s) for -: 'list' and 'list'",
     "output_type": "error",
     "traceback": [
      "\u001b[0;31m---------------------------------------------------------------------------\u001b[0m",
      "\u001b[0;31mTypeError\u001b[0m                                 Traceback (most recent call last)",
      "\u001b[0;32m<ipython-input-4-7118e658f78b>\u001b[0m in \u001b[0;36m<module>\u001b[0;34m\u001b[0m\n\u001b[0;32m----> 1\u001b[0;31m \u001b[0mprint\u001b[0m\u001b[0;34m(\u001b[0m\u001b[0;34m[\u001b[0m\u001b[0;36m0.16943378448486346\u001b[0m\u001b[0;34m,\u001b[0m \u001b[0;36m0.30781502723693865\u001b[0m\u001b[0;34m,\u001b[0m \u001b[0;36m0.5988280296325685\u001b[0m\u001b[0;34m,\u001b[0m \u001b[0;36m0.9328121662139894\u001b[0m\u001b[0;34m,\u001b[0m \u001b[0;36m2.0851561546325685\u001b[0m\u001b[0;34m,\u001b[0m \u001b[0;36m2.102894973754883\u001b[0m\u001b[0;34m,\u001b[0m \u001b[0;36m2.479551982879639\u001b[0m\u001b[0;34m,\u001b[0m \u001b[0;36m3.2455312728881838\u001b[0m\u001b[0;34m,\u001b[0m \u001b[0;36m3.5485629558563234\u001b[0m\u001b[0;34m,\u001b[0m \u001b[0;36m4.2083327293396\u001b[0m\u001b[0;34m,\u001b[0m \u001b[0;36m4.816504192352295\u001b[0m\u001b[0;34m,\u001b[0m \u001b[0;36m5.83887095451355\u001b[0m\u001b[0;34m,\u001b[0m \u001b[0;36m6.501224946975708\u001b[0m\u001b[0;34m,\u001b[0m \u001b[0;36m7.830836009979248\u001b[0m\u001b[0;34m,\u001b[0m \u001b[0;36m9.20174880027771\u001b[0m\u001b[0;34m]\u001b[0m \u001b[0;34m-\u001b[0m \u001b[0;34m[\u001b[0m\u001b[0;36m0.18336124420166033\u001b[0m\u001b[0;34m,\u001b[0m \u001b[0;36m0.5181891441345217\u001b[0m\u001b[0;34m,\u001b[0m \u001b[0;36m0.8644921302795412\u001b[0m\u001b[0;34m,\u001b[0m \u001b[0;36m1.173587989807129\u001b[0m\u001b[0;34m,\u001b[0m \u001b[0;36m1.7332229137420656\u001b[0m\u001b[0;34m,\u001b[0m \u001b[0;36m1.790395212173462\u001b[0m\u001b[0;34m,\u001b[0m \u001b[0;36m2.6081542491912844\u001b[0m\u001b[0;34m,\u001b[0m \u001b[0;36m2.7927598476409914\u001b[0m\u001b[0;34m,\u001b[0m \u001b[0;36m3.131494235992432\u001b[0m\u001b[0;34m,\u001b[0m \u001b[0;36m3.8988749504089357\u001b[0m\u001b[0;34m,\u001b[0m \u001b[0;36m5.2910911560058596\u001b[0m\u001b[0;34m,\u001b[0m \u001b[0;36m5.525445175170899\u001b[0m\u001b[0;34m,\u001b[0m \u001b[0;36m6.390048933029175\u001b[0m\u001b[0;34m,\u001b[0m \u001b[0;36m7.130548906326294\u001b[0m\u001b[0;34m,\u001b[0m \u001b[0;36m8.75259609222412\u001b[0m\u001b[0;34m]\u001b[0m\u001b[0;34m)\u001b[0m\u001b[0;34m\u001b[0m\u001b[0;34m\u001b[0m\u001b[0m\n\u001b[0m",
      "\u001b[0;31mTypeError\u001b[0m: unsupported operand type(s) for -: 'list' and 'list'"
     ]
    }
   ],
   "source": [
    "print([0.16943378448486346, 0.30781502723693865, 0.5988280296325685, 0.9328121662139894, 2.0851561546325685, 2.102894973754883, 2.479551982879639, 3.2455312728881838, 3.5485629558563234, 4.2083327293396, 4.816504192352295, 5.83887095451355, 6.501224946975708, 7.830836009979248, 9.20174880027771] - [0.18336124420166033, 0.5181891441345217, 0.8644921302795412, 1.173587989807129, 1.7332229137420656, 1.790395212173462, 2.6081542491912844, 2.7927598476409914, 3.131494235992432, 3.8988749504089357, 5.2910911560058596, 5.525445175170899, 6.390048933029175, 7.130548906326294, 8.75259609222412])"
   ]
  }
 ],
 "metadata": {
  "kernelspec": {
   "display_name": "Python3.9",
   "language": "python",
   "name": "3.9"
  },
  "language_info": {
   "codemirror_mode": {
    "name": "ipython",
    "version": 3
   },
   "file_extension": ".py",
   "mimetype": "text/x-python",
   "name": "python",
   "nbconvert_exporter": "python",
   "pygments_lexer": "ipython3",
   "version": "3.9.1"
  }
 },
 "nbformat": 4,
 "nbformat_minor": 2
}
