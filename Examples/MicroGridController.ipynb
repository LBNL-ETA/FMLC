{
 "cells": [
  {
   "cell_type": "code",
   "execution_count": null,
   "metadata": {},
   "outputs": [],
   "source": [
    "import os\n",
    "import sys\n",
    "import time\n",
    "import numpy as np\n",
    "import pandas as pd\n",
    "import datetime as dtm\n",
    "import matplotlib.pyplot as plt\n",
    "\n",
    "# Import FMLC\n",
    "#sys.path.append(r'C:\\Users\\Christoph\\Documents\\PublicRepos\\FMLC')\n",
    "sys.path.append(os.path.dirname(os.path.dirname(os.path.abspath(\"Test.ipynb\"))))\n",
    "from FMLC.triggering import triggering\n",
    "from FMLC.baseclasses import eFMU\n",
    "from FMLC.stackedclasses import controller_stack"
   ]
  },
  {
   "cell_type": "markdown",
   "metadata": {},
   "source": [
    "![Architecture](../documentation/images/architecture.jpg)"
   ]
  },
  {
   "cell_type": "code",
   "execution_count": null,
   "metadata": {},
   "outputs": [],
   "source": [
    "from Controllers_Definition import communication_dummy, forecaster_dummy, controller_dummy"
   ]
  },
  {
   "cell_type": "code",
   "execution_count": null,
   "metadata": {},
   "outputs": [],
   "source": [
    "# Setup control modules\n",
    "controller = {}\n",
    "# Slow loop (5 s sampletime)\n",
    "controller['getweather'] = {'fun':communication_dummy, 'sampletime':5}\n",
    "controller['getgrid'] = {'fun':communication_dummy, 'sampletime':'getweather'}\n",
    "controller['forecast'] = {'fun':forecaster_dummy, 'sampletime':'getgrid'}\n",
    "controller['setgrid'] = {'fun':communication_dummy, 'sampletime':'forecast'}\n",
    "# Fast loop (1 s sampletime)\n",
    "controller['getscada'] = {'fun':communication_dummy, 'sampletime':1}\n",
    "controller['controller'] = {'fun':controller_dummy, 'sampletime':'getscada'}\n",
    "controller['setscada'] = {'fun':communication_dummy, 'sampletime':'controller'}\n",
    "\n",
    "# Link control\n",
    "mapping = {}\n",
    "# Slow loop\n",
    "mapping['getweather_mode'] = 'get_weather'\n",
    "mapping['getgrid_mode'] = 'get_iso'\n",
    "mapping['forecast_wf'] = 'getweather_data'\n",
    "mapping['forecast_scada'] = 'getscada_data'\n",
    "mapping['setgrid_mode'] = 'set_iso'\n",
    "# Fast loop\n",
    "mapping['getscada_mode'] = 'get_scada'\n",
    "mapping['controller_data'] = 'forecast_data'\n",
    "mapping['setscada_mode'] = 'set_scada'"
   ]
  },
  {
   "cell_type": "markdown",
   "metadata": {},
   "source": [
    "### Run MGC"
   ]
  },
  {
   "cell_type": "code",
   "execution_count": null,
   "metadata": {},
   "outputs": [],
   "source": [
    "mgc = controller_stack(controller, mapping, tz=-8, debug=True, parallel=False)\n",
    "for i in range(10):\n",
    "    mgc.query_control(time.time())\n",
    "    time.sleep(0.2)\n",
    "log = mgc.log_to_df()\n",
    "print('Log-keys:', list(log.keys()))\n",
    "print('Log-messages from \"controller\"')\n",
    "print(log['controller'])\n",
    "df = pd.read_json(log['controller']['data'].iloc[-1])\n",
    "df['P_batt'] = pd.DataFrame(log['controller']['control'][-1])\n",
    "df.plot()\n",
    "plt.show()"
   ]
  },
  {
   "cell_type": "code",
   "execution_count": null,
   "metadata": {},
   "outputs": [],
   "source": []
  },
  {
   "cell_type": "code",
   "execution_count": null,
   "metadata": {},
   "outputs": [],
   "source": []
  }
 ],
 "metadata": {
  "kernelspec": {
   "display_name": "Python 3",
   "language": "python",
   "name": "python3"
  },
  "language_info": {
   "codemirror_mode": {
    "name": "ipython",
    "version": 3
   },
   "file_extension": ".py",
   "mimetype": "text/x-python",
   "name": "python",
   "nbconvert_exporter": "python",
   "pygments_lexer": "ipython3",
   "version": "3.7.4-final"
  }
 },
 "nbformat": 4,
 "nbformat_minor": 4
}