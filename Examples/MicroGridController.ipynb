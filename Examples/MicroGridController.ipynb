{
 "cells": [
  {
   "cell_type": "code",
   "execution_count": null,
   "metadata": {},
   "outputs": [],
   "source": [
    "import os\n",
    "import sys\n",
    "import time\n",
    "import numpy as np\n",
    "import pandas as pd\n",
    "import datetime as dtm\n",
    "import matplotlib.pyplot as plt\n",
    "\n",
    "# Import FMLC\n",
    "#sys.path.append(r'C:\\Users\\Christoph\\Documents\\PublicRepos\\FMLC')\n",
    "sys.path.append(os.path.dirname(os.path.dirname(os.path.abspath(\"Test.ipynb\"))))\n",
    "from FMLC.triggering import triggering\n",
    "from FMLC.baseclasses import eFMU\n",
    "from FMLC.stackedclasses import controller_stack"
   ]
  },
  {
   "cell_type": "markdown",
   "metadata": {},
   "source": [
    "![Architecture](../documentation/images/architecture.jpg)"
   ]
  },
  {
   "cell_type": "markdown",
   "metadata": {},
   "source": [
    "### Dummy Modules"
   ]
  },
  {
   "cell_type": "code",
   "execution_count": null,
   "metadata": {},
   "outputs": [],
   "source": [
    "class communication_dummy(eFMU):\n",
    "    def __init__(self):\n",
    "        self.input = {'mode':None,}\n",
    "        self.output = {'data':None}\n",
    "    def compute(self):\n",
    "        now = dtm.datetime.now().replace(hour=0, minute=0, second=0, microsecond=0)\n",
    "        ts = pd.DataFrame(index=pd.date_range(now, now+dtm.timedelta(days=1), freq='1H'))\n",
    "        if self.input['mode'] == 'get_weather':\n",
    "            ts['OAT'] = np.random.randint(15, 30, size=len(ts)) # Outside Temperature, in C\n",
    "            self.output['data'] = ts.to_json()\n",
    "            return 'Generated dummy weather forecast.'\n",
    "        elif self.input['mode'] == 'get_iso':\n",
    "            ts['Price'] = np.random.randint(0, 30, size=len(ts)) # AS Price, in $/MWh\n",
    "            self.output['data'] = ts.to_json()\n",
    "            return 'Generated dummy price forecast.'\n",
    "        elif self.input['mode'] == 'set_iso':\n",
    "            return 'Sent market bids.'\n",
    "        elif self.input['mode'] == 'get_scada':\n",
    "            self.output['data'] = {'P_pv': 10, 'P_load': 15, 'P_batt': 0}\n",
    "            return 'Read scada setpoints.'\n",
    "        elif self.input['mode'] == 'set_scada':\n",
    "            return 'Set scada setpoints.'\n",
    "\n",
    "class forecaster_dummy(eFMU):\n",
    "    def __init__(self):\n",
    "        self.input = {'wf':None,'scada':None}\n",
    "        self.output = {'data':None}\n",
    "    def compute(self):\n",
    "        wf = pd.read_json(self.input['wf'])\n",
    "        wf['P_load'] = np.random.randint(5, 30, size=len(wf)) # Load, in kW\n",
    "        wf['P_pv'] = np.sin(wf.index.hour/3-2.5) * 10\n",
    "        wf['P_pv'] = wf['P_pv'].mask(wf['P_pv']<0, 0)\n",
    "        # Scada\n",
    "        res_cols = ['P_load','P_pv']\n",
    "        for c in res_cols:\n",
    "            wf.loc[wf.index[0], c] = self.input['scada'][c]\n",
    "        self.output['data'] = wf[res_cols].to_json()\n",
    "        return 'Computed forecasts.'\n",
    "        \n",
    "class controller_dummy(eFMU):\n",
    "    def __init__(self):\n",
    "        self.input = {'data':None}\n",
    "        self.output = {'control':None}\n",
    "    def compute(self):\n",
    "        if self.input['data'] == -1:\n",
    "            return 'Wariting to initialize.'            \n",
    "        data = pd.read_json(self.input['data'])\n",
    "        control = {'P_batt': data['P_load'] - data['P_pv']}\n",
    "        self.output['control'] = control\n",
    "        return 'Computed control.'"
   ]
  },
  {
   "cell_type": "markdown",
   "metadata": {},
   "source": [
    "### Setup MGC"
   ]
  },
  {
   "cell_type": "code",
   "execution_count": null,
   "metadata": {},
   "outputs": [],
   "source": [
    "# Setup control modules\n",
    "controller = {}\n",
    "# Slow loop (5 s sampletime)\n",
    "controller['getweather'] = {'fun':communication_dummy, 'sampletime':5}\n",
    "controller['getgrid'] = {'fun':communication_dummy, 'sampletime':'getweather'}\n",
    "controller['forecast'] = {'fun':forecaster_dummy, 'sampletime':'getgrid'}\n",
    "controller['setgrid'] = {'fun':communication_dummy, 'sampletime':'forecast'}\n",
    "# Fast loop (1 s sampletime)\n",
    "controller['getscada'] = {'fun':communication_dummy, 'sampletime':1}\n",
    "controller['controller'] = {'fun':controller_dummy, 'sampletime':'getscada'}\n",
    "controller['setscada'] = {'fun':communication_dummy, 'sampletime':'controller'}\n",
    "\n",
    "# Link control\n",
    "mapping = {}\n",
    "# Slow loop\n",
    "mapping['getweather_mode'] = 'get_weather'\n",
    "mapping['getgrid_mode'] = 'get_iso'\n",
    "mapping['forecast_wf'] = 'getweather_data'\n",
    "mapping['forecast_scada'] = 'getscada_data'\n",
    "mapping['setgrid_mode'] = 'set_iso'\n",
    "# Fast loop\n",
    "mapping['getscada_mode'] = 'get_scada'\n",
    "mapping['controller_data'] = 'forecast_data'\n",
    "mapping['setscada_mode'] = 'set_scada'"
   ]
  },
  {
   "cell_type": "markdown",
   "metadata": {},
   "source": [
    "### Run MGC"
   ]
  },
  {
   "cell_type": "code",
   "execution_count": null,
   "metadata": {},
   "outputs": [],
   "source": [
    "mgc = controller_stack(controller, tz=-8, debug=True, parallel=False)\n",
    "mgc.initialize(mapping)\n",
    "for i in range(10):\n",
    "    mgc.query_control(time.time())\n",
    "    time.sleep(0.2)\n",
    "log = mgc.log_to_df()\n",
    "print('Log-keys:', list(log.keys()))\n",
    "print('Log-messages from \"controller\"')\n",
    "print(log['controller'])\n",
    "df = pd.read_json(log['controller']['data'].iloc[-1])\n",
    "df['P_batt'] = pd.DataFrame(log['controller']['control'][-1])\n",
    "df.plot()\n",
    "plt.show()"
   ]
  },
  {
   "cell_type": "code",
   "execution_count": null,
   "metadata": {},
   "outputs": [],
   "source": []
  },
  {
   "cell_type": "code",
   "execution_count": null,
   "metadata": {},
   "outputs": [],
   "source": []
  }
 ],
 "metadata": {
  "kernelspec": {
   "display_name": "Python 3",
   "language": "python",
   "name": "python3"
  },
  "language_info": {
   "codemirror_mode": {
    "name": "ipython",
    "version": 3
   },
   "file_extension": ".py",
   "mimetype": "text/x-python",
   "name": "python",
   "nbconvert_exporter": "python",
   "pygments_lexer": "ipython3",
   "version": "3.7.4"
  }
 },
 "nbformat": 4,
 "nbformat_minor": 4
}
