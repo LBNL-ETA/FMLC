{
 "metadata": {
  "language_info": {
   "codemirror_mode": {
    "name": "ipython",
    "version": 3
   },
   "file_extension": ".py",
   "mimetype": "text/x-python",
   "name": "python",
   "nbconvert_exporter": "python",
   "pygments_lexer": "ipython3",
   "version": 3
  },
  "orig_nbformat": 2,
  "kernelspec": {
   "name": "python_defaultSpec_1597278072889",
   "display_name": "Python 3.7.4 64-bit ('base': conda)"
  }
 },
 "nbformat": 4,
 "nbformat_minor": 2,
 "cells": [
  {
   "cell_type": "code",
   "execution_count": null,
   "metadata": {},
   "outputs": [],
   "source": [
    "if __package__ is None:\n",
    "    import sys\n",
    "    from os import path\n",
    "    sys.path.append(path.dirname(path.dirname(path.abspath(\"Test.ipynb\"))))\n",
    "\n",
    "from FMLC.triggering import triggering\n",
    "from FMLC.baseclasses import eFMU\n",
    "from FMLC.stackedclasses import controller_stack\n",
    "import time\n",
    "from datetime import datetime"
   ]
  },
  {
   "cell_type": "code",
   "execution_count": null,
   "metadata": {},
   "outputs": [],
   "source": [
    "class testcontroller1(eFMU):\n",
    "    def __init__(self):\n",
    "        self.input = {'a':None,'b':None}\n",
    "        self.output = {'c':None}\n",
    "    def compute(self):\n",
    "        self.output['c'] = self.input['a'] * self.input['b']\n",
    "        \n",
    "class testcontroller2(eFMU):\n",
    "    def __init__(self):\n",
    "        self.input = {'a':None,'b':None}\n",
    "        self.output = {'c':None}\n",
    "        self.init = True\n",
    "    def compute(self):\n",
    "        print ('***Init2', self.init)\n",
    "        self.init = False\n",
    "        self.output['c'] = self.input['a'] * self.input['b']\n",
    "        time.sleep(0.2)\n",
    "        \n",
    "class testcontroller3(eFMU):\n",
    "    def __init__(self):\n",
    "        self.input = {'a':None,'b':None}\n",
    "        self.output = {'c':None}\n",
    "        self.init = True\n",
    "    def compute(self):\n",
    "        print ('***Init3', self.init)\n",
    "        self.init = False\n",
    "        self.output['c'] = self.input['a'] * self.input['b']\n",
    "        time.sleep(1)"
   ]
  },
  {
   "cell_type": "code",
   "execution_count": null,
   "metadata": {},
   "outputs": [],
   "source": [
    "controller = {}\n",
    "controller['forecast1'] = {'fun':testcontroller2, 'sampletime':1}\n",
    "controller['mpc1'] = {'fun':testcontroller3, 'sampletime':'forecast1'}\n",
    "controller['control1'] = {'fun':testcontroller1, 'sampletime':'mpc1'}\n",
    "controller['forecast2'] = {'fun':testcontroller2, 'sampletime':2}\n",
    "controller['forecast3'] = {'fun':testcontroller1, 'sampletime':2}\n",
    "\n",
    "# Initialize controller\n",
    "controller = controller_stack(controller, tz=-8, debug=True, parallel=True)\n",
    "mapping = {}\n",
    "mapping['forecast1_a'] = 10\n",
    "mapping['forecast1_b'] = 4\n",
    "mapping['forecast2_a'] = 20\n",
    "mapping['forecast2_b'] = 4\n",
    "mapping['forecast3_a'] = 30\n",
    "mapping['forecast3_b'] = 4\n",
    "mapping['mpc1_a'] = 'forecast1_c'\n",
    "mapping['mpc1_b'] = 'forecast1_a'\n",
    "mapping['control1_a'] = 'mpc1_c'\n",
    "mapping['control1_b'] = 'mpc1_a'\n",
    "\n",
    "controller.initialize(mapping)"
   ]
  },
  {
   "cell_type": "code",
   "execution_count": null,
   "metadata": {
    "tags": []
   },
   "outputs": [],
   "source": [
    "controller.query_control(time.time())\n",
    "print (datetime.now(), 'DB executed controller', controller.data_db['executed_controller'], \\\n",
    "            'DB running controller', controller.data_db['running_controller'])"
   ]
  },
  {
   "cell_type": "code",
   "execution_count": null,
   "metadata": {
    "tags": []
   },
   "outputs": [],
   "source": [
    "controller.query_control(time.time())\n",
    "print (datetime.now(), 'DB executed controller', controller.data_db['executed_controller'], \\\n",
    "            'DB running controller', controller.data_db['running_controller'])"
   ]
  },
  {
   "cell_type": "code",
   "execution_count": null,
   "metadata": {
    "tags": []
   },
   "outputs": [],
   "source": [
    "controller.query_control(time.time())\n",
    "print (datetime.now(), 'DB executed controller', controller.data_db['executed_controller'], \\\n",
    "            'DB running controller', controller.data_db['running_controller'])"
   ]
  },
  {
   "cell_type": "code",
   "execution_count": null,
   "metadata": {},
   "outputs": [],
   "source": []
  },
  {
   "cell_type": "code",
   "execution_count": null,
   "metadata": {},
   "outputs": [],
   "source": []
  }
 ]
}