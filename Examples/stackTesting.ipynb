{
 "metadata": {
  "language_info": {
   "codemirror_mode": {
    "name": "ipython",
    "version": 3
   },
   "file_extension": ".py",
   "mimetype": "text/x-python",
   "name": "python",
   "nbconvert_exporter": "python",
   "pygments_lexer": "ipython3",
   "version": "3.7.4-final"
  },
  "orig_nbformat": 2,
  "kernelspec": {
   "name": "python_defaultSpec_1598949402674",
   "display_name": "Python 3.7.4 64-bit ('base': conda)"
  }
 },
 "nbformat": 4,
 "nbformat_minor": 2,
 "cells": [
  {
   "cell_type": "code",
   "execution_count": null,
   "metadata": {},
   "outputs": [],
   "source": [
    "if __package__ is None:\n",
    "    import sys\n",
    "    from os import path\n",
    "    sys.path.append(path.dirname(path.dirname(path.abspath(\"Test.ipynb\"))))\n",
    "\n",
    "from FMLC.triggering import triggering\n",
    "from FMLC.baseclasses import eFMU\n",
    "from FMLC.stackedclasses import controller_stack\n",
    "import time\n",
    "from datetime import datetime\n",
    "import pandas as pd\n"
   ]
  },
  {
   "cell_type": "code",
   "execution_count": null,
   "metadata": {
    "tags": []
   },
   "outputs": [],
   "source": [
    "class testcontroller1(eFMU):\n",
    "    def __init__(self):\n",
    "        self.input = {'a': None, 'b': None}\n",
    "        self.output = {'c': None}\n",
    "        self.init = True\n",
    "    def compute(self):\n",
    "        self.init= False\n",
    "        self.output['c'] = self.input['a'] * self.input['b']\n",
    "\n",
    "\n",
    "class testcontroller2(eFMU):\n",
    "    def __init__(self):\n",
    "        self.input = {'a': None, 'b': None}\n",
    "        self.output = {'c': None}\n",
    "        self.init = True\n",
    "\n",
    "    def compute(self):\n",
    "        self.init = False\n",
    "        self.output['c'] = self.input['a'] * self.input['b']\n",
    "        time.sleep(0.2)\n",
    "\n",
    "\n",
    "class testcontroller3(eFMU):\n",
    "    def __init__(self):\n",
    "        self.input = {'a': None, 'b': None}\n",
    "        self.output = {'c': None}\n",
    "        self.init = True\n",
    "\n",
    "    def compute(self):\n",
    "        self.init = False\n",
    "        self.output['c'] = self.input['a'] * self.input['b']\n",
    "        time.sleep(1)\n",
    "\n",
    "class testcontroller4(eFMU):\n",
    "    def __init__(self):\n",
    "        self.input = {'a': None, 'b': None}\n",
    "        self.output = {'c': None}\n",
    "        self.init = True\n",
    "\n",
    "    def compute(self):\n",
    "        self.init = False\n",
    "        self.output['c'] = self.input['a'] * self.input['b']\n",
    "        time.sleep(10)\n",
    "controller = {}\n",
    "controller['forecast1'] = {'fun':testcontroller1, 'sampletime':0}\n",
    "controller['mpc1'] = {'fun':testcontroller3, 'sampletime':'forecast1'}\n",
    "controller['control1'] = {'fun':testcontroller1, 'sampletime':'mpc1'}\n",
    "controller['forecast2'] = {'fun':testcontroller3, 'sampletime':0}\n",
    "controller['forecast3'] = {'fun':testcontroller1, 'sampletime':0}\n",
    "controller = controller_stack(controller, tz=-8, debug=True, parallel=True, timeout=0.8)\n",
    "\n",
    "mapping = {}\n",
    "mapping['forecast1_a'] = 10\n",
    "mapping['forecast1_b'] = 4\n",
    "mapping['forecast2_a'] = 20\n",
    "mapping['forecast2_b'] = 4\n",
    "mapping['forecast3_a'] = 30\n",
    "mapping['forecast3_b'] = 4\n",
    "mapping['mpc1_a'] = 'forecast1_c'\n",
    "mapping['mpc1_b'] = 'forecast1_a'\n",
    "mapping['control1_a'] = 'mpc1_c'\n",
    "mapping['control1_b'] = 'mpc1_a'\n",
    "controller.initialize(mapping)\n",
    "\n",
    "for i in range(6):\n",
    "    controller.query_control(time.time())\n",
    "    time.sleep(1.5)\n",
    "\n",
    "for df in controller.log_to_df().values():\n",
    "    display(df)"
   ]
  },
  {
   "cell_type": "code",
   "execution_count": null,
   "metadata": {
    "tags": []
   },
   "outputs": [],
   "source": [
    "controller.query_control(time.time())\n",
    "for df in controller.log_to_df().values():\n",
    "    display(df)"
   ]
  },
  {
   "cell_type": "code",
   "execution_count": null,
   "metadata": {},
   "outputs": [],
   "source": [
    "display(controller.running_controllers.__str__())\n",
    "display(controller.executed_controllers.__str__())\n",
    "display(controller.timeout_controllers.__str__())"
   ]
  },
  {
   "cell_type": "code",
   "execution_count": null,
   "metadata": {},
   "outputs": [],
   "source": [
    "display(len(controller.log_to_df()['mpc1'].columns))\n",
    "display(controller.running_controllers.__str__())\n",
    "display(controller.executed_controllers.__str__())\n",
    "display(controller.timeout_controllers.__str__())"
   ]
  },
  {
   "cell_type": "code",
   "execution_count": null,
   "metadata": {
    "tags": []
   },
   "outputs": [],
   "source": [
    "for i in range(3):\n",
    "    controller.query_control(time.time())\n",
    "    time.sleep(1)\n",
    "for df in controller.log_to_df().values():\n",
    "    display(df)"
   ]
  },
  {
   "cell_type": "code",
   "execution_count": null,
   "metadata": {},
   "outputs": [],
   "source": [
    "display(len(controller.log_to_df()['mpc1'].columns))\n",
    "display(controller.running_controllers.__str__())\n",
    "display(controller.executed_controllers.__str__())\n",
    "display(controller.timeout_controllers.__str__())"
   ]
  },
  {
   "cell_type": "code",
   "execution_count": null,
   "metadata": {},
   "outputs": [],
   "source": []
  }
 ]
}