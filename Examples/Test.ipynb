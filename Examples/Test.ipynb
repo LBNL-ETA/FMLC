{
 "cells": [
  {
   "cell_type": "markdown",
   "metadata": {},
   "source": [
    "# Environment"
   ]
  },
  {
   "cell_type": "code",
   "execution_count": 2,
   "metadata": {},
   "outputs": [
    {
     "ename": "NameError",
     "evalue": "name '__file__' is not defined",
     "output_type": "error",
     "traceback": [
      "\u001b[1;31m---------------------------------------------------------------------------\u001b[0m",
      "\u001b[1;31mNameError\u001b[0m                                 Traceback (most recent call last)",
      "\u001b[1;32m<ipython-input-2-e94af395360a>\u001b[0m in \u001b[0;36m<module>\u001b[1;34m()\u001b[0m\n\u001b[1;32m----> 1\u001b[1;33m \u001b[1;32mif\u001b[0m \u001b[0m__package__\u001b[0m \u001b[1;32mis\u001b[0m \u001b[0mNone\u001b[0m \u001b[1;32mand\u001b[0m \u001b[0m__file__\u001b[0m\u001b[1;33m:\u001b[0m\u001b[1;33m\u001b[0m\u001b[0m\n\u001b[0m\u001b[0;32m      2\u001b[0m     \u001b[1;32mimport\u001b[0m \u001b[0msys\u001b[0m\u001b[1;33m\u001b[0m\u001b[0m\n\u001b[0;32m      3\u001b[0m     \u001b[1;32mfrom\u001b[0m \u001b[0mos\u001b[0m \u001b[1;32mimport\u001b[0m \u001b[0mpath\u001b[0m\u001b[1;33m\u001b[0m\u001b[0m\n\u001b[0;32m      4\u001b[0m     \u001b[0msys\u001b[0m\u001b[1;33m.\u001b[0m\u001b[0mpath\u001b[0m\u001b[1;33m.\u001b[0m\u001b[0mappend\u001b[0m\u001b[1;33m(\u001b[0m\u001b[0mpath\u001b[0m\u001b[1;33m.\u001b[0m\u001b[0mdirname\u001b[0m\u001b[1;33m(\u001b[0m\u001b[0mpath\u001b[0m\u001b[1;33m.\u001b[0m\u001b[0mdirname\u001b[0m\u001b[1;33m(\u001b[0m\u001b[0mpath\u001b[0m\u001b[1;33m.\u001b[0m\u001b[0mabspath\u001b[0m\u001b[1;33m(\u001b[0m\u001b[0m__file__\u001b[0m\u001b[1;33m)\u001b[0m\u001b[1;33m)\u001b[0m\u001b[1;33m)\u001b[0m\u001b[1;33m)\u001b[0m\u001b[1;33m\u001b[0m\u001b[0m\n\u001b[0;32m      5\u001b[0m \u001b[1;33m\u001b[0m\u001b[0m\n",
      "\u001b[1;31mNameError\u001b[0m: name '__file__' is not defined"
     ]
    }
   ],
   "source": [
    "if __package__ is None:\n",
    "    import sys\n",
    "    from os import path\n",
    "    sys.path.append(path.dirname(path.dirname(path.abspath(__file__))))\n",
    "\n",
    "from FMLC.triggering import triggering\n",
    "from FMLC.baseclasses import eFMU\n",
    "from FMLC.stackedclasses import controller_stack"
   ]
  },
  {
   "cell_type": "code",
   "execution_count": null,
   "metadata": {},
   "outputs": [],
   "source": [
    "import logging\n",
    "logger = logging.getLogger(__name__)\n",
    "'''\n",
    "import matplotlib.pyplot as plt\n",
    "%matplotlib inline\n",
    "'''\n",
    "logger.setLevel(logging.DEBUG)"
   ]
  },
  {
   "cell_type": "markdown",
   "metadata": {},
   "source": [
    "# Triggering Class"
   ]
  },
  {
   "cell_type": "code",
   "execution_count": null,
   "metadata": {},
   "outputs": [],
   "source": [
    "import time"
   ]
  },
  {
   "cell_type": "code",
   "execution_count": null,
   "metadata": {},
   "outputs": [],
   "source": [
    "if __name__ == '__main__':\n",
    "    ts = {} \n",
    "    ts['main'] = 0.5 # seconds\n",
    "    ts['print'] = 1 # seconds\n",
    "\n",
    "    trigger_test = triggering(ts)\n",
    "    now_init = time.time()\n",
    "    now = now_init\n",
    "    while now < now_init+2:\n",
    "        now = time.time()\n",
    "        if now >= trigger_test.trigger['main']:\n",
    "            print ('Main triggered', now)\n",
    "            trigger_test.refresh_trigger('main', now)\n",
    "        if now >= trigger_test.trigger['print']:\n",
    "            print ('Print triggered', now)\n",
    "            trigger_test.refresh_trigger('print', now)"
   ]
  },
  {
   "cell_type": "markdown",
   "metadata": {},
   "source": [
    "# Controller Base Class (eFMU)"
   ]
  },
  {
   "cell_type": "code",
   "execution_count": null,
   "metadata": {},
   "outputs": [],
   "source": [
    "class testcontroller1(eFMU):\n",
    "    def __init__(self):\n",
    "        self.input = {'a':None,'b':None}\n",
    "        self.output = {'c':None}\n",
    "    def compute(self):\n",
    "        self.output['c'] = self.input['a'] * self.input['b']"
   ]
  },
  {
   "cell_type": "code",
   "execution_count": null,
   "metadata": {},
   "outputs": [],
   "source": [
    "if __name__ == '__main__':\n",
    "    # Test controller\n",
    "    testcontroller = testcontroller1()\n",
    "    # Get all variables\n",
    "    variables = testcontroller.get_model_variables()\n",
    "    # Makeup some inputs\n",
    "    inputs = {}\n",
    "    for var in variables:\n",
    "        inputs[var] = 2\n",
    "    # Query controller\n",
    "    print ('Log-message', testcontroller.do_step(inputs=inputs))\n",
    "    print ('Input', testcontroller.input)\n",
    "    print ('Output', testcontroller.output)"
   ]
  },
  {
   "cell_type": "markdown",
   "metadata": {
    "collapsed": true
   },
   "source": [
    "# Controller Stack Class (multi-thread)"
   ]
  },
  {
   "cell_type": "code",
   "execution_count": null,
   "metadata": {},
   "outputs": [],
   "source": [
    "from datetime import datetime"
   ]
  },
  {
   "cell_type": "code",
   "execution_count": null,
   "metadata": {},
   "outputs": [],
   "source": [
    "class testcontroller2(eFMU):\n",
    "    def __init__(self):\n",
    "        self.input = {'a':None,'b':None}\n",
    "        self.output = {'c':None}\n",
    "        self.init = True\n",
    "    def compute(self):\n",
    "        print ('***Init2', self.init)\n",
    "        self.init = False\n",
    "        self.output['c'] = self.input['a'] * self.input['b']\n",
    "        time.sleep(0.2)\n",
    "        \n",
    "class testcontroller3(eFMU):\n",
    "    def __init__(self):\n",
    "        self.input = {'a':None,'b':None}\n",
    "        self.output = {'c':None}\n",
    "        self.init = True\n",
    "    def compute(self):\n",
    "        print ('***Init3', self.init)\n",
    "        self.init = False\n",
    "        self.output['c'] = self.input['a'] * self.input['b']\n",
    "        time.sleep(1)"
   ]
  },
  {
   "cell_type": "code",
   "execution_count": null,
   "metadata": {
    "scrolled": false
   },
   "outputs": [],
   "source": [
    "if __name__ == '__main__' and False:\n",
    "    controller = {}\n",
    "    controller['forecast1'] = {'fun':testcontroller2, 'sampletime':1}\n",
    "    controller['mpc1'] = {'fun':testcontroller3, 'sampletime':'forecast1'}\n",
    "    controller['control1'] = {'fun':testcontroller1, 'sampletime':'mpc1'}\n",
    "    controller['forecast2'] = {'fun':testcontroller2, 'sampletime':1}\n",
    "    controller['forecast3'] = {'fun':testcontroller1, 'sampletime':2}\n",
    "\n",
    "    # Initialize controller\n",
    "    controller = controller_stack(controller, tz=-8, debug=True, parallel=True)\n",
    "    mapping = {}\n",
    "    mapping['forecast1_a'] = 10\n",
    "    mapping['forecast1_b'] = 4\n",
    "    mapping['forecast2_a'] = 20\n",
    "    mapping['forecast2_b'] = 4\n",
    "    mapping['forecast3_a'] = 30\n",
    "    mapping['forecast3_b'] = 4\n",
    "    mapping['mpc1_a'] = 'forecast1_c'\n",
    "    mapping['mpc1_b'] = 'forecast1_a'\n",
    "    mapping['control1_a'] = 'mpc1_c'\n",
    "    mapping['control1_b'] = 'mpc1_a'\n",
    "\n",
    "    controller.initialize(mapping)\n",
    "    for i in range(40):\n",
    "        #print i\n",
    "        #if i == 2: write_db({'dev_debug':False}, controller.database.address); print 'Debug=False'\n",
    "        #if i == 2: controller.set_input({'ctrl1_b':10})\n",
    "        #if i == 4: print controller.log_to_df(which=['input'])['ctrl1']; controller.clear_logs(); print 'Clear Logs'\n",
    "        controller.query_control(time.time())\n",
    "        if i <= 3: print (i, controller.data_db['mpc1_c'], controller.data_db['control1_c'])\n",
    "        #print datetime.now(), 'DB executed controller', controller.data_db['executed_controller'], \\\n",
    "        #        'DB running controller', controller.data_db['running_controller']\n",
    "        print ('.')\n",
    "        print ('\\033[F')\n",
    "        time.sleep(0.1)\n",
    "\n",
    "\n",
    "    #print '\\n\\nInput\\n', controller.log_to_df(which=['input'])['mpc1']\n",
    "    #print '\\n\\nLog\\n', controller.log_to_df()\n",
    "    time.sleep(2)\n",
    "    controller.shutdown()"
   ]
  },
  {
   "cell_type": "code",
   "execution_count": null,
   "metadata": {},
   "outputs": [],
   "source": [
    "class testcontroller4(eFMU):\n",
    "    def __init__(self):\n",
    "        self.input = {'a':None,'b':None}\n",
    "        self.output = {'c':None}\n",
    "        self.init = True\n",
    "        self.counter = 0\n",
    "    def compute(self):\n",
    "        print ('***Init4', self.init, self.counter)\n",
    "        self.init = False\n",
    "        self.output['c'] = self.input['a'] * self.input['b']\n",
    "        self.counter += 1\n",
    "        time.sleep(0.5)"
   ]
  },
  {
   "cell_type": "code",
   "execution_count": null,
   "metadata": {
    "scrolled": false
   },
   "outputs": [],
   "source": [
    "if __name__ == '__main__':\n",
    "\n",
    "    controller = {}\n",
    "    controller['forecast1'] = {'fun':testcontroller4, 'sampletime':1}\n",
    "    controller['mpc1'] = {'fun':testcontroller4, 'sampletime':'forecast1'}\n",
    "    controller['control1'] = {'fun':testcontroller4, 'sampletime':'mpc1'}\n",
    "    controller['forecast2'] = {'fun':testcontroller2, 'sampletime':1}\n",
    "    controller['forecast3'] = {'fun':testcontroller1, 'sampletime':2}\n",
    "\n",
    "    # Initialize controller\n",
    "    controller = controller_stack(controller, tz=-8, debug=True, parallel=True)\n",
    "    mapping = {}\n",
    "    mapping['forecast1_a'] = 10\n",
    "    mapping['forecast1_b'] = 4\n",
    "    mapping['forecast2_a'] = 20\n",
    "    mapping['forecast2_b'] = 4\n",
    "    mapping['forecast3_a'] = 30\n",
    "    mapping['forecast3_b'] = 4\n",
    "    mapping['mpc1_a'] = 'forecast1_c'\n",
    "    mapping['mpc1_b'] = 'forecast1_a'\n",
    "    mapping['control1_a'] = 'mpc1_c'\n",
    "    mapping['control1_b'] = 'mpc1_a'\n",
    "\n",
    "    controller.initialize(mapping)\n",
    "    for i in range(40):\n",
    "        #print i\n",
    "        #if i == 2: write_db({'dev_debug':False}, controller.database.address); print 'Debug=False'\n",
    "        #if i == 2: controller.set_input({'ctrl1_b':10})\n",
    "        #if i == 4: print controller.log_to_df(which=['input'])['ctrl1']; controller.clear_logs(); print 'Clear Logs'\n",
    "        controller.query_control(time.time())\n",
    "        #if i <= 3: print i, controller.data_db['mpc1_c'], controller.data_db['control1_c']\n",
    "        #print datetime.now(), 'DB executed controller', controller.data_db['executed_controller'], \\\n",
    "        #        'DB running controller', controller.data_db['running_controller']\n",
    "        print ('.')\n",
    "        time.sleep(0.2)\n",
    "\n",
    "\n",
    "    #print '\\n\\nInput\\n', controller.log_to_df(which=['input'])['mpc1']\n",
    "    print ('\\n\\nLog\\n', controller.log_to_df())\n",
    "    time.sleep(2)\n",
    "    controller.shutdown()"
   ]
  },
  {
   "cell_type": "code",
   "execution_count": null,
   "metadata": {},
   "outputs": [],
   "source": []
  }
 ],
 "metadata": {
  "kernelspec": {
   "display_name": "Python 2",
   "language": "python",
   "name": "python2"
  },
  "language_info": {
   "codemirror_mode": {
    "name": "ipython",
    "version": 2
   },
   "file_extension": ".py",
   "mimetype": "text/x-python",
   "name": "python",
   "nbconvert_exporter": "python",
   "pygments_lexer": "ipython2",
   "version": "2.7.15"
  }
 },
 "nbformat": 4,
 "nbformat_minor": 2
}
