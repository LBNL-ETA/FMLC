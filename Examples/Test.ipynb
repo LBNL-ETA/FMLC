{
 "cells": [
  {
   "cell_type": "markdown",
   "metadata": {},
   "source": [
    "# Environment"
   ]
  },
  {
   "cell_type": "code",
   "execution_count": null,
   "metadata": {
    "pycharm": {
     "is_executing": false
    }
   },
   "outputs": [],
   "source": [
    "if __package__ is None:\n",
    "    import sys\n",
    "    from os import path\n",
    "    sys.path.append(path.dirname(path.dirname(path.abspath(\"Test.ipynb\"))))\n",
    "\n",
    "from FMLC.triggering import triggering\n",
    "from FMLC.baseclasses import eFMU\n",
    "from FMLC.stackedclasses import controller_stack"
   ]
  },
  {
   "cell_type": "code",
   "execution_count": null,
   "metadata": {},
   "outputs": [],
   "source": [
    "import logging\n",
    "logger = logging.getLogger(__name__)\n",
    "'''\n",
    "import matplotlib.pyplot as plt\n",
    "%matplotlib inline\n",
    "'''\n",
    "logger.setLevel(logging.DEBUG)"
   ]
  },
  {
   "cell_type": "markdown",
   "metadata": {},
   "source": [
    "# Triggering Class"
   ]
  },
  {
   "cell_type": "code",
   "execution_count": null,
   "metadata": {},
   "outputs": [],
   "source": [
    "import time"
   ]
  },
  {
   "cell_type": "code",
   "execution_count": null,
   "metadata": {
    "tags": []
   },
   "outputs": [],
   "source": [
    "if __name__ == '__main__':\n",
    "    ts = {} \n",
    "    ts['main'] = 0.5 # seconds\n",
    "    ts['print'] = 1 # seconds\n",
    "\n",
    "    trigger_test = triggering(ts)\n",
    "    now_init = time.time()\n",
    "    now = now_init\n",
    "    while now < now_init+2:\n",
    "        now = time.time()\n",
    "        if now >= trigger_test.trigger['main']:\n",
    "            print ('Main triggered', now)\n",
    "            trigger_test.refresh_trigger('main', now)\n",
    "        if now >= trigger_test.trigger['print']:\n",
    "            print ('Print triggered', now)\n",
    "            trigger_test.refresh_trigger('print', now)"
   ]
  },
  {
   "cell_type": "markdown",
   "metadata": {},
   "source": [
    "# Controller Base Class (eFMU)"
   ]
  },
  {
   "cell_type": "code",
   "execution_count": null,
   "metadata": {},
   "outputs": [],
   "source": [
    "class testcontroller1(eFMU):\n",
    "    def __init__(self):\n",
    "        self.input = {'a':None,'b':None}\n",
    "        self.output = {'c':None}\n",
    "    def compute(self):\n",
    "        self.output['c'] = self.input['a'] * self.input['b']"
   ]
  },
  {
   "cell_type": "code",
   "execution_count": null,
   "metadata": {
    "tags": []
   },
   "outputs": [],
   "source": [
    "if __name__ == '__main__':\n",
    "    # Test controller\n",
    "    testcontroller = testcontroller1()\n",
    "    # Get all variables\n",
    "    variables = testcontroller.get_model_variables()\n",
    "    # Makeup some inputs\n",
    "    inputs = {}\n",
    "    for var in variables:\n",
    "        inputs[var] = 2\n",
    "    # Query controller\n",
    "    print ('Log-message', testcontroller.do_step(inputs=inputs))\n",
    "    print ('Input', testcontroller.input)\n",
    "    print ('Output', testcontroller.output)\n",
    "    print('Output', testcontroller.get_var('output'))"
   ]
  },
  {
   "cell_type": "markdown",
   "metadata": {
    "collapsed": true
   },
   "source": [
    "# Controller Stack Class (single-thread/multi-thread)"
   ]
  },
  {
   "cell_type": "code",
   "execution_count": null,
   "metadata": {},
   "outputs": [],
   "source": [
    "from datetime import datetime"
   ]
  },
  {
   "cell_type": "code",
   "execution_count": null,
   "metadata": {},
   "outputs": [],
   "source": [
    "\"\"\"\n",
    "Initialize some controller objects.\n",
    "\"\"\"\n",
    "class testcontroller1(eFMU):\n",
    "    def __init__(self):\n",
    "        self.input = {'a': None, 'b': None}\n",
    "        self.output = {'c': None}\n",
    "        self.init = True\n",
    "    def compute(self):\n",
    "        self.init= False\n",
    "        self.output['c'] = self.input['a'] * self.input['b']\n",
    "        return 'testcontroller1 did a computation!'\n",
    "\n",
    "\n",
    "class testcontroller2(eFMU):\n",
    "    def __init__(self):\n",
    "        self.input = {'a': None, 'b': None}\n",
    "        self.output = {'c': None}\n",
    "        self.init = True\n",
    "\n",
    "    def compute(self):\n",
    "        self.init = False\n",
    "        self.output['c'] = self.input['a'] * self.input['b']\n",
    "        time.sleep(0.2)\n",
    "        return 'testcontroller2 did a computation!'\n",
    "\n",
    "class testcontroller3(eFMU):\n",
    "    def __init__(self):\n",
    "        self.input = {'a': None, 'b': None}\n",
    "        self.output = {'c': None}\n",
    "        self.init = True\n",
    "\n",
    "    def compute(self):\n",
    "        self.init = False\n",
    "        self.output['c'] = self.input['a'] * self.input['b']\n",
    "        time.sleep(1)\n",
    "        return 'testcontroller3 did a computation!'\n",
    "\n",
    "class testcontroller4(eFMU):\n",
    "    def __init__(self):\n",
    "        self.input = {'a': None, 'b': None}\n",
    "        self.output = {'c': None}\n",
    "        self.init = True\n",
    "\n",
    "    def compute(self):\n",
    "        self.init = False\n",
    "        self.output['c'] = self.input['a'] * self.input['b']\n",
    "        time.sleep(10)\n",
    "        return 'testcontroller4 did a computation!'"
   ]
  },
  {
   "cell_type": "code",
   "execution_count": null,
   "metadata": {},
   "outputs": [],
   "source": [
    "# create a mapping of controllers and their sample times\n",
    "controllers = {}\n",
    "controllers['forecast1'] = {'fun':testcontroller1, 'sampletime':1}\n",
    "controllers['mpc1'] = {'fun':testcontroller2, 'sampletime':'forecast1'}\n",
    "controllers['control1'] = {'fun':testcontroller1, 'sampletime':'mpc1'}\n",
    "controllers['forecast2'] = {'fun':testcontroller3, 'sampletime':1}\n",
    "controllers['forecast3'] = {'fun':testcontroller1, 'sampletime':1}\n",
    "\n",
    "# Create a mapping of inputs for each controller\n",
    "mapping = {}\n",
    "mapping['forecast1_a'] = 10\n",
    "mapping['forecast1_b'] = 4\n",
    "mapping['forecast2_a'] = 20\n",
    "mapping['forecast2_b'] = 4\n",
    "mapping['forecast3_a'] = 30\n",
    "mapping['forecast3_b'] = 4\n",
    "mapping['mpc1_a'] = 'forecast1_c'\n",
    "mapping['mpc1_b'] = 'forecast1_a'\n",
    "mapping['control1_a'] = 'mpc1_c'\n",
    "mapping['control1_b'] = 'mpc1_a'"
   ]
  },
  {
   "source": [
    "## Single Thread"
   ],
   "cell_type": "markdown",
   "metadata": {}
  },
  {
   "cell_type": "code",
   "execution_count": null,
   "metadata": {},
   "outputs": [],
   "source": [
    "# Initialize the controller_stack using the mappings above\n",
    "ctrl_stack = controller_stack(controllers, tz=-8, debug=True, parallel=False, timeout=2)\n",
    "ctrl_stack.initialize(mapping)\n",
    "\n",
    "# Call query_control 6 times. We should expect 6 records(excluding NaN) for each controller.\n",
    "# In single thread mod, each call of query_control will trigger a computations for each controller in the system.\n",
    "for i in range(6):\n",
    "    ctrl_stack.query_control(time.time())\n",
    "for df in ctrl_stack.log_to_df().values():\n",
    "    display(df)"
   ]
  },
  {
   "source": [
    "## Multi Thread"
   ],
   "cell_type": "markdown",
   "metadata": {}
  },
  {
   "cell_type": "code",
   "execution_count": null,
   "metadata": {},
   "outputs": [],
   "source": [
    "# Initialize another controller_stack using the mappings above. This time, parallel = True\n",
    "controllers = {}\n",
    "controllers['forecast1'] = {'fun':testcontroller1, 'sampletime':1}\n",
    "controllers['mpc1'] = {'fun':testcontroller2, 'sampletime':'forecast1'}\n",
    "controllers['control1'] = {'fun':testcontroller1, 'sampletime':'mpc1'}\n",
    "controllers['forecast2'] = {'fun':testcontroller3, 'sampletime':1}\n",
    "controllers['forecast3'] = {'fun':testcontroller1, 'sampletime':1}\n",
    "ctrl_stack = controller_stack(controllers, tz=-8, debug=True, parallel=True, timeout=2)\n",
    "ctrl_stack.initialize(mapping)\n",
    "\n",
    "# Call query_control 6 times. We should expect there are 6 records(excluding NaN) for each task.\n",
    "# In multi thread mod, each call of query_control will trigger a computation for one controller within each task. \n",
    "# We assign tasks based on input dependency. Since the inputs of mpc1 and control1 depend on the out put of\n",
    "# forecast1, they are in the same task as forecast1.\n",
    "for i in range(6):\n",
    "    ctrl_stack.query_control(time.time())\n",
    "    time.sleep(1.5)\n",
    "for df in ctrl_stack.log_to_df().values():\n",
    "    display(df)"
   ]
  },
  {
   "cell_type": "code",
   "execution_count": null,
   "metadata": {},
   "outputs": [],
   "source": []
  }
 ],
 "metadata": {
  "kernelspec": {
   "display_name": "Python 3.7.6 64-bit",
   "language": "python",
   "name": "python37664bit9a72682f3af34101ab1a1deb1c0d046c"
  },
  "language_info": {
   "codemirror_mode": {
    "name": "ipython",
    "version": 2
   },
   "file_extension": ".py",
   "mimetype": "text/x-python",
   "name": "python",
   "nbconvert_exporter": "python",
   "pygments_lexer": "ipython2",
   "version": "3.7.6-final"
  }
 },
 "nbformat": 4,
 "nbformat_minor": 2
}